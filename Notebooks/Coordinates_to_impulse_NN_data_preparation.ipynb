{
 "cells": [
  {
   "cell_type": "markdown",
   "metadata": {},
   "source": [
    "# **Coordinate to impulse space Neural Network** "
   ]
  },
  {
   "cell_type": "markdown",
   "metadata": {},
   "source": [
    "In this notebook I will attempt to create Neural Network that learns transformation from coordinate to impulse space.\n",
    "\n",
    "Theoretically it should work well for particles that were born in origin.\n",
    "\n",
    "Here I prepare data for the network."
   ]
  },
  {
   "cell_type": "markdown",
   "metadata": {},
   "source": [
    "Data preparation\n",
    "---\n",
    "* remove particle_id == 0\n",
    "* remove negative charge particles\n",
    "* remove non origin particles"
   ]
  },
  {
   "cell_type": "code",
   "execution_count": 1,
   "metadata": {},
   "outputs": [],
   "source": [
    "# Imports\n",
    "\n",
    "import os\n",
    "\n",
    "import numpy as np\n",
    "import pandas as pd"
   ]
  },
  {
   "cell_type": "code",
   "execution_count": 2,
   "metadata": {},
   "outputs": [],
   "source": [
    "# Load data\n",
    "\n",
    "data_path = '../Data/train_100_events/'\n",
    "event_prefix = 'event000001000'\n",
    "hits, cells, particles, truth = load_event(os.path.join(data_path, event_prefix))"
   ]
  },
  {
   "cell_type": "code",
   "execution_count": 3,
   "metadata": {},
   "outputs": [],
   "source": [
    "# Shuffle hits\n",
    "from sklearn.utils import shuffle\n",
    "hits = shuffle(hits)"
   ]
  },
  {
   "cell_type": "code",
   "execution_count": 5,
   "metadata": {},
   "outputs": [
    {
     "name": "stdout",
     "output_type": "stream",
     "text": [
      "1\n",
      "2\n",
      "3\n",
      "4\n",
      "5\n",
      "6\n",
      "7\n",
      "8\n",
      "9\n",
      "10\n",
      "11\n",
      "12\n",
      "13\n",
      "14\n",
      "15\n",
      "16\n",
      "17\n",
      "18\n",
      "19\n",
      "20\n",
      "21\n",
      "22\n",
      "23\n",
      "24\n",
      "25\n",
      "26\n",
      "27\n",
      "28\n",
      "29\n",
      "30\n",
      "31\n",
      "32\n",
      "33\n",
      "34\n",
      "35\n",
      "36\n",
      "37\n",
      "38\n",
      "39\n",
      "40\n",
      "41\n",
      "42\n"
     ]
    }
   ],
   "source": [
    "# Prepare data\n",
    "\n",
    "x_train = [] # np.transpose([hits.x.values, hits.y.values, hits.z.values])\n",
    "y_train = []\n",
    "progress = 0\n",
    "\n",
    "for index, hit in hits.iterrows():\n",
    "    hit_id = hit['hit_id']\n",
    "    truth_of_hit = truth.loc[truth.hit_id == hit_id]\n",
    "    particle_id = truth_of_hit['particle_id'].values[0]    \n",
    "    if particle_id == 0: continue\n",
    "        \n",
    "    particle_info = particles[particles.particle_id == particle_id]\n",
    "    charge = particle_info['q'].values[0]    \n",
    "    if charge > 0: continue\n",
    "        \n",
    "    origin = [particle_info['vx'].values[0],\n",
    "              particle_info['vy'].values[0]]\n",
    "    \n",
    "    if np.linalg.norm(origin) > 0.1: continue\n",
    "        \n",
    "    coordinates = [hit['x'], hit['y'], hit['z']]\n",
    "    impulse = [particle_info['px'].values[0],\n",
    "               particle_info['py'].values[0],\n",
    "               particle_info['pz'].values[0]]\n",
    "    \n",
    "    x_train.append(coordinates)\n",
    "    y_train.append(impulse)\n",
    "    \n",
    "    if len(x_train)%1000 == 0 : \n",
    "        progress+=1\n",
    "        print(progress)"
   ]
  },
  {
   "cell_type": "code",
   "execution_count": 6,
   "metadata": {},
   "outputs": [
    {
     "name": "stdout",
     "output_type": "stream",
     "text": [
      "[[  -93.9573   -652.93701 -1067.27002]\n",
      " [ -553.203      39.2662  -1215.5    ]\n",
      " [ -866.11798  -209.32201 -1502.5    ]\n",
      " [  -27.839     -20.9165    602.5    ]\n",
      " [ -233.84399   119.106    -341.20001]\n",
      " [ -156.27299  -209.965     328.79999]\n",
      " [ -203.909     161.52      540.40002]\n",
      " [  591.22699   665.70398 -2952.5    ]\n",
      " [ -279.00201   597.13397   522.20001]\n",
      " [  -31.4884    -12.6849    131.81599]]\n",
      "[[-0.22612 -0.17179 -0.41093]\n",
      " [-0.14429  0.1768  -0.42881]\n",
      " [-0.43994  0.16702 -0.74537]\n",
      " [-0.18919 -0.12845  3.97079]\n",
      " [-0.3989   0.29185 -0.63017]\n",
      " [-0.77344 -0.91488  1.50366]\n",
      " [-0.49851  0.49538  1.46384]\n",
      " [ 1.13041  0.93099 -4.86151]\n",
      " [-0.35318  1.22197  1.01961]\n",
      " [-0.17881 -0.06086  0.79745]]\n"
     ]
    }
   ],
   "source": [
    "# Inspect data\n",
    "np.set_printoptions(precision=5, suppress=True)\n",
    "x_train = np.asarray(x_train)\n",
    "y_train = np.asarray(y_train)\n",
    "print(x_train[0:10])\n",
    "print(y_train[0:10])"
   ]
  },
  {
   "cell_type": "code",
   "execution_count": 7,
   "metadata": {},
   "outputs": [],
   "source": [
    "# Store data\n",
    "save_path = '../Data/generated_data/'\n",
    "x_train_df = pd.DataFrame(x_train)\n",
    "y_train_df = pd.DataFrame(y_train)\n",
    "x_train_df.to_csv(os.path.join(data_path, \"Coordinates_to_impulse_X.csv\"))\n",
    "y_train_df.to_csv(os.path.join(data_path, \"Coordinates_to_impulse_Y.csv\"))"
   ]
  }
 ],
 "metadata": {
  "kernelspec": {
   "display_name": "Python 3",
   "language": "python",
   "name": "python3"
  },
  "language_info": {
   "codemirror_mode": {
    "name": "ipython",
    "version": 3
   },
   "file_extension": ".py",
   "mimetype": "text/x-python",
   "name": "python",
   "nbconvert_exporter": "python",
   "pygments_lexer": "ipython3",
   "version": "3.6.5"
  }
 },
 "nbformat": 4,
 "nbformat_minor": 2
}
