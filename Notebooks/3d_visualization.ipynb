{
 "cells": [
  {
   "cell_type": "code",
   "execution_count": 1,
   "metadata": {},
   "outputs": [],
   "source": [
    "#Imports\n",
    "import os\n",
    "import pandas as pd\n",
    "import matplotlib.cm\n",
    "import numpy as np\n",
    "import ipyvolume as ipv\n",
    "import ipywidgets as widgets\n",
    "from trackml.dataset import load_event"
   ]
  },
  {
   "cell_type": "code",
   "execution_count": 2,
   "metadata": {},
   "outputs": [],
   "source": [
    "# Load Data\n",
    "data_path = '../Data/train_100_events/'\n",
    "event_prefix = 'event000001000'\n",
    "hits, cells, particles, truth = load_event(os.path.join(data_path, event_prefix))"
   ]
  },
  {
   "cell_type": "code",
   "execution_count": 3,
   "metadata": {},
   "outputs": [
    {
     "data": {
      "application/vnd.jupyter.widget-view+json": {
       "model_id": "7c10753271a540938dbe6dfe8f5f9780",
       "version_major": 2,
       "version_minor": 0
      },
      "text/plain": [
       "VBox(children=(Figure(camera_center=[0.0, 0.0, 0.0], height=500, matrix_projection=[0.0, 0.0, 0.0, 0.0, 0.0, 0…"
      ]
     },
     "metadata": {},
     "output_type": "display_data"
    },
    {
     "data": {
      "application/vnd.jupyter.widget-view+json": {
       "model_id": "df555560ebd241e9a2178aa18a9545c7",
       "version_major": 2,
       "version_minor": 0
      },
      "text/plain": [
       "VBox(children=(FloatSlider(value=0.01, max=0.1, min=0.01, step=0.01), ColorPicker(value='black')))"
      ]
     },
     "metadata": {},
     "output_type": "display_data"
    }
   ],
   "source": [
    "fig = ipv.figure()\n",
    "scatter = ipv.scatter(hits.x, hits.y, hits.z, marker='diamond', size=0.1, color='black')\n",
    "ipv.show()\n",
    "ipv.squarelim()\n",
    "\n",
    "widget_size = widgets.FloatSlider(min=0.01, max=0.1, step=0.01)\n",
    "widget_color = widgets.ColorPicker()\n",
    "widgets.jslink((scatter, 'size'), (widget_size, 'value'))\n",
    "widgets.jslink((scatter, 'color'), (widget_color, 'value'))\n",
    "widgets.VBox([widget_size, widget_color])"
   ]
  },
  {
   "cell_type": "code",
   "execution_count": 4,
   "metadata": {},
   "outputs": [],
   "source": [
    "N = 20\n",
    "cmap = matplotlib.cm.get_cmap('tab20', N)\n",
    "colors = cmap(np.linspace(0, 1.0, N))\n",
    "colors = [\"#%02x%02x%02x\"  % tuple([int(k*255) for k in matplotlib.colors.to_rgb(color)[:3]]) for color in colors]"
   ]
  },
  {
   "cell_type": "code",
   "execution_count": 5,
   "metadata": {},
   "outputs": [
    {
     "name": "stdout",
     "output_type": "stream",
     "text": [
      "432347694548131842 8\n",
      "549441009965072384 11\n",
      "220678031025377281 4\n",
      "63059465754116096 11\n",
      "936751471272132608 15\n",
      "743120051917291520 9\n",
      "153141766223036416 1\n",
      "103593717826322432 10\n",
      "824161411901964290 1\n",
      "707066309728272384 13\n",
      "540434841502482432 14\n",
      "4539402491531265 0\n",
      "229685848738627584 13\n",
      "788134332869910530 1\n",
      "648520820242513920 12\n",
      "648520751523037184 13\n",
      "671040467646808064 14\n",
      "292755828572684288 12\n",
      "112593907728007170 1\n",
      "211685950038736896 12\n"
     ]
    }
   ],
   "source": [
    "samples = particles.sample(N, random_state=32)\n",
    "with fig.hold_sync():\n",
    "    for color, particle_id in zip(colors, samples.particle_id):\n",
    "        truth[truth.particle_id == particle_id].hit_id\n",
    "        p = hits[hits.hit_id.isin(truth[truth.particle_id == particle_id].hit_id)]\n",
    "        print(particle_id, len(p.x))\n",
    "        if len(p.x):\n",
    "            ipv.plot(p.x.values, p.y.values, p.z.values, color=color)\n",
    "            ipv.scatter(p.x.values, p.y.values, p.z.values, color=color, marker='sphere', size=1)"
   ]
  },
  {
   "cell_type": "code",
   "execution_count": null,
   "metadata": {},
   "outputs": [],
   "source": []
  }
 ],
 "metadata": {
  "kernelspec": {
   "display_name": "Python 3",
   "language": "python",
   "name": "python3"
  },
  "language_info": {
   "codemirror_mode": {
    "name": "ipython",
    "version": 3
   },
   "file_extension": ".py",
   "mimetype": "text/x-python",
   "name": "python",
   "nbconvert_exporter": "python",
   "pygments_lexer": "ipython3",
   "version": "3.6.5"
  }
 },
 "nbformat": 4,
 "nbformat_minor": 2
}
