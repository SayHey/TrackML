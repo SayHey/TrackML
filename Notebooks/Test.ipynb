{
 "cells": [
  {
   "cell_type": "code",
   "execution_count": 15,
   "metadata": {},
   "outputs": [
    {
     "name": "stdout",
     "output_type": "stream",
     "text": [
      "0.17522045475788922\n"
     ]
    }
   ],
   "source": [
    "from trackml.randomize import shuffle_hits\n",
    "from trackml.score import score_event\n",
    "from trackml.dataset import load_event\n",
    "\n",
    "event_path = '../Data/train_100_events/event000001000'\n",
    "hits, cells, particles, truth = load_event(event_path)\n",
    "\n",
    "shuffled = shuffle_hits(truth, 0.5) # 5% probability to reassign a hit\n",
    "score = score_event(truth, shuffled)\n",
    "print(score)"
   ]
  },
  {
   "cell_type": "code",
   "execution_count": null,
   "metadata": {},
   "outputs": [],
   "source": []
  }
 ],
 "metadata": {
  "kernelspec": {
   "display_name": "Python 3",
   "language": "python",
   "name": "python3"
  },
  "language_info": {
   "codemirror_mode": {
    "name": "ipython",
    "version": 3
   },
   "file_extension": ".py",
   "mimetype": "text/x-python",
   "name": "python",
   "nbconvert_exporter": "python",
   "pygments_lexer": "ipython3",
   "version": "3.6.5"
  }
 },
 "nbformat": 4,
 "nbformat_minor": 2
}
