{
 "cells": [
  {
   "cell_type": "code",
   "execution_count": 17,
   "metadata": {},
   "outputs": [],
   "source": [
    "from trackml.randomize import shuffle_hits\n",
    "from trackml.score import score_event\n",
    "from trackml.dataset import load_event\n",
    "\n",
    "event_path = '../Data/train_100_events/event000001000'\n",
    "hits, cells, particles, truth = load_event(event_path)"
   ]
  },
  {
   "cell_type": "markdown",
   "metadata": {},
   "source": [
    "Generate solution by shuffling truth dataset with some probability to reassign a hit\n",
    "---"
   ]
  },
  {
   "cell_type": "code",
   "execution_count": 18,
   "metadata": {},
   "outputs": [
    {
     "name": "stdout",
     "output_type": "stream",
     "text": [
      "0.9508389278404866\n"
     ]
    }
   ],
   "source": [
    "shuffled = shuffle_hits(truth, 0.05) # 5% probability to reassign a hit\n",
    "score = score_event(truth, shuffled)\n",
    "print(score)"
   ]
  },
  {
   "cell_type": "markdown",
   "metadata": {},
   "source": [
    "Generate random solution with the given number of tracks\n",
    "---"
   ]
  },
  {
   "cell_type": "code",
   "execution_count": 35,
   "metadata": {},
   "outputs": [
    {
     "name": "stdout",
     "output_type": "stream",
     "text": [
      "0.0\n"
     ]
    }
   ],
   "source": [
    "from trackml.randomize import random_solution\n",
    "\n",
    "particles = truth.particle_id.unique()\n",
    "particles_count = particles.shape[0]\n",
    "\n",
    "random = random_solution(hits, particles_count) # \n",
    "score = score_event(truth, random)\n",
    "print(score)"
   ]
  },
  {
   "cell_type": "code",
   "execution_count": 40,
   "metadata": {},
   "outputs": [
    {
     "name": "stdout",
     "output_type": "stream",
     "text": [
      "0.5924378227444085\n"
     ]
    }
   ],
   "source": [
    "def score_random(trim_value):\n",
    "    hits_trim, truth_trim = hits[1:trim_value], truth[1:trim_value]\n",
    "\n",
    "    particles_trim = truth_trim.particle_id.unique()\n",
    "    particles_count = particles_trim.shape[0]\n",
    "\n",
    "    random_trim = random_solution(hits_trim, particles_count) # \n",
    "    score = score_event(truth_trim, random_trim)\n",
    "    return score\n",
    "    \n",
    "print(score_random(10))"
   ]
  },
  {
   "cell_type": "code",
   "execution_count": 64,
   "metadata": {},
   "outputs": [],
   "source": [
    "x = range(5, 10000, 100)\n",
    "y = [score_random(trim_value) for trim_value in x]"
   ]
  },
  {
   "cell_type": "code",
   "execution_count": 65,
   "metadata": {},
   "outputs": [
    {
     "data": {
      "image/png": "[encoded data removed]",
      "text/plain": [
       "<Figure size 432x288 with 1 Axes>"
      ]
     },
     "metadata": {},
     "output_type": "display_data"
    }
   ],
   "source": [
    "import matplotlib.pyplot as plt\n",
    "plt.plot(x, y)\n",
    "plt.show()"
   ]
  },
  {
   "cell_type": "code",
   "execution_count": 62,
   "metadata": {},
   "outputs": [
    {
     "data": {
      "text/plain": [
       "6.393067655746829e-05"
      ]
     },
     "execution_count": 62,
     "metadata": {},
     "output_type": "execute_result"
    }
   ],
   "source": [
    "score_random(10000)"
   ]
  },
  {
   "cell_type": "code",
   "execution_count": null,
   "metadata": {},
   "outputs": [],
   "source": []
  }
 ],
 "metadata": {
  "kernelspec": {
   "display_name": "Python 3",
   "language": "python",
   "name": "python3"
  },
  "language_info": {
   "codemirror_mode": {
    "name": "ipython",
    "version": 3
   },
   "file_extension": ".py",
   "mimetype": "text/x-python",
   "name": "python",
   "nbconvert_exporter": "python",
   "pygments_lexer": "ipython3",
   "version": "3.6.5"
  }
 },
 "nbformat": 4,
 "nbformat_minor": 2
}
