{
 "cells": [
  {
   "cell_type": "code",
   "execution_count": null,
   "metadata": {},
   "outputs": [],
   "source": [
    "#imports\n",
    "\n",
    "import matplotlib.pyplot as plt\n",
    "import numpy as np\n",
    "import pandas as pd\n",
    "import os\n",
    "\n",
    "from trackml.dataset import load_event, load_dataset\n",
    "from trackml.score import score_event"
   ]
  },
  {
   "cell_type": "code",
   "execution_count": null,
   "metadata": {},
   "outputs": [],
   "source": [
    "#load event\n",
    "\n",
    "data_path = '../Data/train_100_events/'\n",
    "event_prefix = 'event000001000'\n",
    "hits, cells, particles, truth = load_event(os.path.join(data_path, event_prefix))\n",
    "hits.head()"
   ]
  },
  {
   "cell_type": "code",
   "execution_count": null,
   "metadata": {},
   "outputs": [],
   "source": [
    "#transorm spherical coordinates\n",
    "import math as m\n",
    "\n",
    "def spherical(x,y,z):\n",
    "    a = x**2 + y**2\n",
    "    r = m.sqrt(a + z**2)\n",
    "    theta = m.atan2(z,m.sqrt(a))\n",
    "    phi = m.atan2(y,x)\n",
    "    return r, theta, phi\n",
    "\n",
    "print(spherical(1, 1, 1))"
   ]
  },
  {
   "cell_type": "code",
   "execution_count": null,
   "metadata": {},
   "outputs": [],
   "source": [
    "#prepare spherical coordinates\n",
    "\n",
    "x, y = [], []\n",
    "\n",
    "for index, row in hits.iterrows():\n",
    "    r, theta, phi = spherical(row['x'], row['y'], row['z'])\n",
    "    x.append(theta)\n",
    "    y.append(phi)"
   ]
  },
  {
   "cell_type": "code",
   "execution_count": null,
   "metadata": {},
   "outputs": [],
   "source": [
    "print(len(x), len(y))"
   ]
  },
  {
   "cell_type": "code",
   "execution_count": null,
   "metadata": {
    "scrolled": false
   },
   "outputs": [],
   "source": [
    "#plot\n",
    "import seaborn as sns\n",
    "plt.rcParams[\"figure.figsize\"] = [20,20]\n",
    "\n",
    "plt.scatter(x, y, s=1)\n",
    "plt.show()"
   ]
  },
  {
   "cell_type": "code",
   "execution_count": null,
   "metadata": {},
   "outputs": [],
   "source": [
    "#DBSCAN Clusterer\n",
    "\n",
    "from sklearn.preprocessing import StandardScaler\n",
    "from sklearn.cluster import DBSCAN\n",
    "\n",
    "def predict(X, eps=0.008):\n",
    "    cl = DBSCAN(eps, min_samples=1, algorithm='kd_tree')\n",
    "    labels = cl.fit_predict(StandardScaler().fit_transform(X))\n",
    "    return labels"
   ]
  },
  {
   "cell_type": "code",
   "execution_count": null,
   "metadata": {},
   "outputs": [],
   "source": [
    "labels = predict(np.transpose([x,y]))"
   ]
  },
  {
   "cell_type": "code",
   "execution_count": null,
   "metadata": {},
   "outputs": [],
   "source": [
    "print(labels)"
   ]
  },
  {
   "cell_type": "code",
   "execution_count": null,
   "metadata": {},
   "outputs": [],
   "source": [
    "#score\n",
    "\n",
    "def create_one_event_submission(event_id, hits, labels):\n",
    "    sub_data = np.column_stack(([event_id]*len(hits), hits.hit_id.values, labels))\n",
    "    submission = pd.DataFrame(data=sub_data, columns=[\"event_id\", \"hit_id\", \"track_id\"]).astype(int)\n",
    "    return submission\n",
    "\n",
    "submission = create_one_event_submission(0, hits, labels)\n",
    "score = score_event(truth, submission)\n",
    "\n",
    "print(\"Your score: \", score)"
   ]
  },
  {
   "cell_type": "code",
   "execution_count": null,
   "metadata": {},
   "outputs": [],
   "source": [
    "def try_clustering(hits, X):\n",
    "    labels = predict(X)\n",
    "    submission = create_one_event_submission(0, hits, labels)\n",
    "    score = score_event(truth, submission)\n",
    "    print(\"Your score: \", score)\n",
    "    "
   ]
  },
  {
   "cell_type": "code",
   "execution_count": null,
   "metadata": {},
   "outputs": [],
   "source": [
    "#strange coordinate transform\n",
    "\n",
    "def strange(x,y,z):\n",
    "    r = np.sqrt(x**2 + y**2 + z**2)\n",
    "    x2 = x/r\n",
    "    y2 = y/r\n",
    "    r = np.sqrt(x**2 + y**2)\n",
    "    z2 = z/r\n",
    "    return x2,y2,z2\n",
    "\n",
    "x2, y2, z2 = [], [], []\n",
    "\n",
    "for index, row in hits.iterrows():\n",
    "    x2_, y2_, z2_ = strange(row['x'], row['y'], row['z'])\n",
    "    x2.append(x2_)\n",
    "    y2.append(y2_)\n",
    "    z2.append(z2_)"
   ]
  },
  {
   "cell_type": "code",
   "execution_count": null,
   "metadata": {},
   "outputs": [],
   "source": [
    "plt.scatter(x2, y2, s=1)\n",
    "plt.show()"
   ]
  },
  {
   "cell_type": "code",
   "execution_count": null,
   "metadata": {},
   "outputs": [],
   "source": [
    "plt.scatter(z2[1::10], x2[1::10], s=1)\n",
    "plt.show()"
   ]
  },
  {
   "cell_type": "code",
   "execution_count": null,
   "metadata": {},
   "outputs": [],
   "source": [
    "try_clustering(hits, np.transpose([x2,y2,z2]))"
   ]
  },
  {
   "cell_type": "code",
   "execution_count": null,
   "metadata": {},
   "outputs": [],
   "source": [
    "# some figures\n",
    "\n",
    "# Get every 100th particle\n",
    "tracks = truth.particle_id.unique()[1::500]\n",
    "\n",
    "plt.figure(figsize=(15,15))\n",
    "ax = plt.axes(projection='3d')\n",
    "for track in tracks:\n",
    "    t = truth[truth.particle_id == track]\n",
    "    ax.plot3D(t.tz, t.tx, t.ty)\n",
    "ax.set_xlabel('z (mm)')\n",
    "ax.set_ylabel('x (mm)')\n",
    "ax.set_zlabel('y (mm)')\n",
    "# These two added to widen the 3D space\n",
    "ax.scatter(3000,3000,3000, s=0)\n",
    "ax.scatter(-3000,-3000,-3000, s=0)\n",
    "plt.show()"
   ]
  },
  {
   "cell_type": "code",
   "execution_count": null,
   "metadata": {},
   "outputs": [],
   "source": []
  }
 ],
 "metadata": {
  "kernelspec": {
   "display_name": "Python 3",
   "language": "python",
   "name": "python3"
  },
  "language_info": {
   "codemirror_mode": {
    "name": "ipython",
    "version": 3
   },
   "file_extension": ".py",
   "mimetype": "text/x-python",
   "name": "python",
   "nbconvert_exporter": "python",
   "pygments_lexer": "ipython3",
   "version": "3.6.4"
  }
 },
 "nbformat": 4,
 "nbformat_minor": 2
}
